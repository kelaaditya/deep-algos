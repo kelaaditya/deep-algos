{
 "cells": [
  {
   "cell_type": "code",
   "execution_count": 4,
   "metadata": {
    "collapsed": false
   },
   "outputs": [],
   "source": [
    "import theano\n",
    "import theano.tensor as T\n",
    "import lasagne\n",
    "import numpy as np\n",
    "\n",
    "from load_mnist import *"
   ]
  },
  {
   "cell_type": "code",
   "execution_count": null,
   "metadata": {
    "collapsed": true
   },
   "outputs": [],
   "source": [
    "def batchify(X):\n",
    "    "
   ]
  },
  {
   "cell_type": "code",
   "execution_count": 27,
   "metadata": {
    "collapsed": true
   },
   "outputs": [],
   "source": [
    "def load_data():\n",
    "    X_train, y_train = load_mnist('training')\n",
    "    X_test, y_test = load_mnist('testing')\n",
    "    X_train = np.reshape(X_train, (len(X_train), 1, 28, 28))\n",
    "    X_test = np.reshape(X_test, (len(X_test), 1, 28, 28))\n",
    "    return X_train, y_train, X_test, y_test"
   ]
  },
  {
   "cell_type": "code",
   "execution_count": 31,
   "metadata": {
    "collapsed": false
   },
   "outputs": [],
   "source": [
    "X_train, y_train, X_test, y_test = load_data()"
   ]
  },
  {
   "cell_type": "code",
   "execution_count": 2,
   "metadata": {
    "collapsed": true
   },
   "outputs": [],
   "source": [
    "X = T.tensor4('X')\n",
    "y = T.ivector('y')"
   ]
  },
  {
   "cell_type": "code",
   "execution_count": null,
   "metadata": {
    "collapsed": false
   },
   "outputs": [],
   "source": [
    "input_layer = lasagne.layers.InputLayer(shape=(None, 1, 28, 28), input_var=X),\n",
    "#channel = 1 as images are black-white\n",
    "input_layer_drop = lasagne.layers.DropoutLayer(input_layer, p=0.2)\n",
    "    \n",
    "hidden_layer_1 = lasagne.layers.DenseLayer(input_layer_drop, \n",
    "                                           num_units=800, \n",
    "                                           nonlinearity=lasagne.nonlinearities.rectify, \n",
    "                                           W=lasagne.init.GlorotUniform()\n",
    "                                          )\n",
    "hidden_layer_1_drop = lasagne.layers.DropoutLayer(hidden_layer_1, p=0.5)\n",
    "    \n",
    "hidden_layer_2 = lasagne.layers.DenseLayer(hidden_layer_1_drop, \n",
    "                                           num_units=800, \n",
    "                                           nonlinearity=lasagne.nonlinearities.rectify, \n",
    "                                           W=lasagne.init.GlorotUniform()\n",
    "                                          )\n",
    "hidden_layer_2_drop = lasagne.layers.DropoutLayer(hidden_layer_2, p=0.5)\n",
    "    \n",
    "output_layer = lasagne.layers.DenseLayer(hidden_layer_2_drop, \n",
    "                                         num_units=10, \n",
    "                                         nonlinearity=lasagne.nonlinearities.softmax\n",
    "                                        )\n",
    "    \n",
    "prediction = lasagne.layers.get_output(output_layer)\n",
    "loss = lasagne.objectives.categorical_crossentropy(prediction, y)\n",
    "loss = loss.mean()\n",
    "params = lasagne.layers.get_all_params(output_layer, trainable=True)\n",
    "updates = lasagne.updates.sgd(loss, params, learning_rate=0.01)\n",
    "#Used Stochastic Gradient Descent here without momentum\n",
    "    \n",
    "validation_prediction = lasagne.layers.get_output(output_layer, deterministic=True)\n",
    "#We disable dropout for validation\n",
    "validation_loss = lasagne.objectives.categorical_crossentropy(validation_prediction, y)\n",
    "validation_loss = validation_loss.mean()\n",
    "    \n",
    "validation_accuracy = T.mean(T.eq(T.argmax(validation_prediction, axis=1), y), \n",
    "                      dtype=theano.config.floatX)\n",
    "\n",
    "train_mlp = theano.function([X, y], loss, updates=updates)\n",
    "validation_mlp = theano.function([X, y], [validation_loss, validation_accuracy])\n",
    "#No updates performed in validation_mlp"
   ]
  }
 ],
 "metadata": {
  "anaconda-cloud": {},
  "kernelspec": {
   "display_name": "Python [conda root]",
   "language": "python",
   "name": "conda-root-py"
  },
  "language_info": {
   "codemirror_mode": {
    "name": "ipython",
    "version": 3
   },
   "file_extension": ".py",
   "mimetype": "text/x-python",
   "name": "python",
   "nbconvert_exporter": "python",
   "pygments_lexer": "ipython3",
   "version": "3.5.2"
  }
 },
 "nbformat": 4,
 "nbformat_minor": 1
}
