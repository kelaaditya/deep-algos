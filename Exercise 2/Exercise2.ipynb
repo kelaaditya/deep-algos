{
 "cells": [
  {
   "cell_type": "code",
   "execution_count": 4,
   "metadata": {
    "collapsed": false
   },
   "outputs": [],
   "source": [
    "import theano\n",
    "import theano.tensor as T\n",
    "import lasagne\n",
    "import numpy as np\n",
    "\n",
    "from load_mnist import *"
   ]
  },
  {
   "cell_type": "code",
   "execution_count": null,
   "metadata": {
    "collapsed": true
   },
   "outputs": [],
   "source": [
    "def batchify(X):\n",
    "    "
   ]
  },
  {
   "cell_type": "code",
   "execution_count": 27,
   "metadata": {
    "collapsed": true
   },
   "outputs": [],
   "source": [
    "def load_data():\n",
    "    X_train, y_train = load_mnist('training')\n",
    "    X_test, y_test = load_mnist('testing')\n",
    "    X_train = np.reshape(X_train, (len(X_train), 1, 28, 28))\n",
    "    X_test = np.reshape(X_test, (len(X_test), 1, 28, 28))\n",
    "    return X_train, y_train, X_test, y_test"
   ]
  },
  {
   "cell_type": "code",
   "execution_count": 31,
   "metadata": {
    "collapsed": false
   },
   "outputs": [],
   "source": [
    "X_train, y_train, X_test, y_test = load_data()"
   ]
  },
  {
   "cell_type": "code",
   "execution_count": 30,
   "metadata": {
    "collapsed": false
   },
   "outputs": [
    {
     "ename": "NameError",
     "evalue": "name 'X_test' is not defined",
     "output_type": "error",
     "traceback": [
      "\u001b[0;31m---------------------------------------------------------------------------\u001b[0m",
      "\u001b[0;31mNameError\u001b[0m                                 Traceback (most recent call last)",
      "\u001b[0;32m<ipython-input-30-ce05b65fbaf0>\u001b[0m in \u001b[0;36m<module>\u001b[0;34m()\u001b[0m\n\u001b[0;32m----> 1\u001b[0;31m \u001b[0mX_test\u001b[0m\u001b[0;34m.\u001b[0m\u001b[0mshape\u001b[0m\u001b[0;34m\u001b[0m\u001b[0m\n\u001b[0m",
      "\u001b[0;31mNameError\u001b[0m: name 'X_test' is not defined"
     ]
    }
   ],
   "source": [
    "X_test.shape"
   ]
  },
  {
   "cell_type": "code",
   "execution_count": 26,
   "metadata": {
    "collapsed": false
   },
   "outputs": [
    {
     "data": {
      "text/plain": [
       "array([[[   0.,    0.,    0.,    0.,    0.,    0.,    0.,    0.,    0.,\n",
       "            0.,    0.,    0.,    0.,    0.,    0.,    0.,    0.,    0.,\n",
       "            0.,    0.,    0.,    0.,    0.,    0.,    0.,    0.,    0.,\n",
       "            0.],\n",
       "        [   0.,    0.,    0.,    0.,    0.,    0.,    0.,    0.,    0.,\n",
       "            0.,    0.,    0.,    0.,    0.,    0.,    0.,    0.,    0.,\n",
       "            0.,    0.,    0.,    0.,    0.,    0.,    0.,    0.,    0.,\n",
       "            0.],\n",
       "        [   0.,    0.,    0.,    0.,    0.,    0.,    0.,    0.,    0.,\n",
       "            0.,    0.,    0.,    0.,    0.,    0.,    0.,    0.,    0.,\n",
       "            0.,    0.,    0.,    0.,    0.,    0.,    0.,    0.,    0.,\n",
       "            0.],\n",
       "        [   0.,    0.,    0.,    0.,    0.,    0.,    0.,    0.,    0.,\n",
       "            0.,    0.,    0.,    0.,    0.,    0.,    0.,    0.,    0.,\n",
       "            0.,    0.,    0.,    0.,    0.,    0.,    0.,    0.,    0.,\n",
       "            0.],\n",
       "        [   0.,    0.,    0.,    0.,    0.,    0.,    0.,    0.,    0.,\n",
       "            0.,    0.,    0.,    0.,    0.,    0.,    0.,    0.,    0.,\n",
       "            0.,    0.,    0.,    0.,    0.,    0.,    0.,    0.,    0.,\n",
       "            0.],\n",
       "        [   0.,    0.,    0.,    0.,    0.,    0.,    0.,    0.,    0.,\n",
       "            0.,    0.,    0.,    3.,   18.,   18.,   18.,  126.,  136.,\n",
       "          175.,   26.,  166.,  255.,  247.,  127.,    0.,    0.,    0.,\n",
       "            0.],\n",
       "        [   0.,    0.,    0.,    0.,    0.,    0.,    0.,    0.,   30.,\n",
       "           36.,   94.,  154.,  170.,  253.,  253.,  253.,  253.,  253.,\n",
       "          225.,  172.,  253.,  242.,  195.,   64.,    0.,    0.,    0.,\n",
       "            0.],\n",
       "        [   0.,    0.,    0.,    0.,    0.,    0.,    0.,   49.,  238.,\n",
       "          253.,  253.,  253.,  253.,  253.,  253.,  253.,  253.,  251.,\n",
       "           93.,   82.,   82.,   56.,   39.,    0.,    0.,    0.,    0.,\n",
       "            0.],\n",
       "        [   0.,    0.,    0.,    0.,    0.,    0.,    0.,   18.,  219.,\n",
       "          253.,  253.,  253.,  253.,  253.,  198.,  182.,  247.,  241.,\n",
       "            0.,    0.,    0.,    0.,    0.,    0.,    0.,    0.,    0.,\n",
       "            0.],\n",
       "        [   0.,    0.,    0.,    0.,    0.,    0.,    0.,    0.,   80.,\n",
       "          156.,  107.,  253.,  253.,  205.,   11.,    0.,   43.,  154.,\n",
       "            0.,    0.,    0.,    0.,    0.,    0.,    0.,    0.,    0.,\n",
       "            0.],\n",
       "        [   0.,    0.,    0.,    0.,    0.,    0.,    0.,    0.,    0.,\n",
       "           14.,    1.,  154.,  253.,   90.,    0.,    0.,    0.,    0.,\n",
       "            0.,    0.,    0.,    0.,    0.,    0.,    0.,    0.,    0.,\n",
       "            0.],\n",
       "        [   0.,    0.,    0.,    0.,    0.,    0.,    0.,    0.,    0.,\n",
       "            0.,    0.,  139.,  253.,  190.,    2.,    0.,    0.,    0.,\n",
       "            0.,    0.,    0.,    0.,    0.,    0.,    0.,    0.,    0.,\n",
       "            0.],\n",
       "        [   0.,    0.,    0.,    0.,    0.,    0.,    0.,    0.,    0.,\n",
       "            0.,    0.,   11.,  190.,  253.,   70.,    0.,    0.,    0.,\n",
       "            0.,    0.,    0.,    0.,    0.,    0.,    0.,    0.,    0.,\n",
       "            0.],\n",
       "        [   0.,    0.,    0.,    0.,    0.,    0.,    0.,    0.,    0.,\n",
       "            0.,    0.,    0.,   35.,  241.,  225.,  160.,  108.,    1.,\n",
       "            0.,    0.,    0.,    0.,    0.,    0.,    0.,    0.,    0.,\n",
       "            0.],\n",
       "        [   0.,    0.,    0.,    0.,    0.,    0.,    0.,    0.,    0.,\n",
       "            0.,    0.,    0.,    0.,   81.,  240.,  253.,  253.,  119.,\n",
       "           25.,    0.,    0.,    0.,    0.,    0.,    0.,    0.,    0.,\n",
       "            0.],\n",
       "        [   0.,    0.,    0.,    0.,    0.,    0.,    0.,    0.,    0.,\n",
       "            0.,    0.,    0.,    0.,    0.,   45.,  186.,  253.,  253.,\n",
       "          150.,   27.,    0.,    0.,    0.,    0.,    0.,    0.,    0.,\n",
       "            0.],\n",
       "        [   0.,    0.,    0.,    0.,    0.,    0.,    0.,    0.,    0.,\n",
       "            0.,    0.,    0.,    0.,    0.,    0.,   16.,   93.,  252.,\n",
       "          253.,  187.,    0.,    0.,    0.,    0.,    0.,    0.,    0.,\n",
       "            0.],\n",
       "        [   0.,    0.,    0.,    0.,    0.,    0.,    0.,    0.,    0.,\n",
       "            0.,    0.,    0.,    0.,    0.,    0.,    0.,    0.,  249.,\n",
       "          253.,  249.,   64.,    0.,    0.,    0.,    0.,    0.,    0.,\n",
       "            0.],\n",
       "        [   0.,    0.,    0.,    0.,    0.,    0.,    0.,    0.,    0.,\n",
       "            0.,    0.,    0.,    0.,    0.,   46.,  130.,  183.,  253.,\n",
       "          253.,  207.,    2.,    0.,    0.,    0.,    0.,    0.,    0.,\n",
       "            0.],\n",
       "        [   0.,    0.,    0.,    0.,    0.,    0.,    0.,    0.,    0.,\n",
       "            0.,    0.,    0.,   39.,  148.,  229.,  253.,  253.,  253.,\n",
       "          250.,  182.,    0.,    0.,    0.,    0.,    0.,    0.,    0.,\n",
       "            0.],\n",
       "        [   0.,    0.,    0.,    0.,    0.,    0.,    0.,    0.,    0.,\n",
       "            0.,   24.,  114.,  221.,  253.,  253.,  253.,  253.,  201.,\n",
       "           78.,    0.,    0.,    0.,    0.,    0.,    0.,    0.,    0.,\n",
       "            0.],\n",
       "        [   0.,    0.,    0.,    0.,    0.,    0.,    0.,    0.,   23.,\n",
       "           66.,  213.,  253.,  253.,  253.,  253.,  198.,   81.,    2.,\n",
       "            0.,    0.,    0.,    0.,    0.,    0.,    0.,    0.,    0.,\n",
       "            0.],\n",
       "        [   0.,    0.,    0.,    0.,    0.,    0.,   18.,  171.,  219.,\n",
       "          253.,  253.,  253.,  253.,  195.,   80.,    9.,    0.,    0.,\n",
       "            0.,    0.,    0.,    0.,    0.,    0.,    0.,    0.,    0.,\n",
       "            0.],\n",
       "        [   0.,    0.,    0.,    0.,   55.,  172.,  226.,  253.,  253.,\n",
       "          253.,  253.,  244.,  133.,   11.,    0.,    0.,    0.,    0.,\n",
       "            0.,    0.,    0.,    0.,    0.,    0.,    0.,    0.,    0.,\n",
       "            0.],\n",
       "        [   0.,    0.,    0.,    0.,  136.,  253.,  253.,  253.,  212.,\n",
       "          135.,  132.,   16.,    0.,    0.,    0.,    0.,    0.,    0.,\n",
       "            0.,    0.,    0.,    0.,    0.,    0.,    0.,    0.,    0.,\n",
       "            0.],\n",
       "        [   0.,    0.,    0.,    0.,    0.,    0.,    0.,    0.,    0.,\n",
       "            0.,    0.,    0.,    0.,    0.,    0.,    0.,    0.,    0.,\n",
       "            0.,    0.,    0.,    0.,    0.,    0.,    0.,    0.,    0.,\n",
       "            0.],\n",
       "        [   0.,    0.,    0.,    0.,    0.,    0.,    0.,    0.,    0.,\n",
       "            0.,    0.,    0.,    0.,    0.,    0.,    0.,    0.,    0.,\n",
       "            0.,    0.,    0.,    0.,    0.,    0.,    0.,    0.,    0.,\n",
       "            0.],\n",
       "        [   0.,    0.,    0.,    0.,    0.,    0.,    0.,    0.,    0.,\n",
       "            0.,    0.,    0.,    0.,    0.,    0.,    0.,    0.,    0.,\n",
       "            0.,    0.,    0.,    0.,    0.,    0.,    0.,    0.,    0.,\n",
       "            0.]]])"
      ]
     },
     "execution_count": 26,
     "metadata": {},
     "output_type": "execute_result"
    }
   ],
   "source": [
    "X_train[0]"
   ]
  },
  {
   "cell_type": "code",
   "execution_count": 2,
   "metadata": {
    "collapsed": true
   },
   "outputs": [],
   "source": [
    "X = T.tensor4('X')\n",
    "y = T.ivector('y')"
   ]
  },
  {
   "cell_type": "code",
   "execution_count": null,
   "metadata": {
    "collapsed": false
   },
   "outputs": [],
   "source": [
    "input_layer = lasagne.layers.InputLayer(shape=(None, 1, 28, 28), input_var=X),\n",
    "#channel = 1 as images are black-white\n",
    "input_layer_drop = lasagne.layers.DropoutLayer(input_layer, p=0.2)\n",
    "    \n",
    "hidden_layer_1 = lasagne.layers.DenseLayer(input_layer_drop, \n",
    "                                           num_units=800, \n",
    "                                           nonlinearity=lasagne.nonlinearities.rectify, \n",
    "                                           W=lasagne.init.GlorotUniform()\n",
    "                                          )\n",
    "hidden_layer_1_drop = lasagne.layers.DropoutLayer(hidden_layer_1, p=0.5)\n",
    "    \n",
    "hidden_layer_2 = lasagne.layers.DenseLayer(hidden_layer_1_drop, \n",
    "                                           num_units=800, \n",
    "                                           nonlinearity=lasagne.nonlinearities.rectify, \n",
    "                                           W=lasagne.init.GlorotUniform()\n",
    "                                          )\n",
    "hidden_layer_2_drop = lasagne.layers.DropoutLayer(hidden_layer_2, p=0.5)\n",
    "    \n",
    "output_layer = lasagne.layers.DenseLayer(hidden_layer_2_drop, \n",
    "                                         num_units=10, \n",
    "                                         nonlinearity=lasagne.nonlinearities.softmax\n",
    "                                        )\n",
    "    \n",
    "prediction = lasagne.layers.get_output(output_layer)\n",
    "loss = lasagne.objectives.categorical_crossentropy(prediction, y)\n",
    "loss = loss.mean()\n",
    "params = lasagne.layers.get_all_params(output_layer, trainable=True)\n",
    "updates = lasagne.updates.sgd(loss, params, learning_rate=0.01)\n",
    "#Used Stochastic Gradient Descent here without momentum\n",
    "    \n",
    "validation_prediction = lasagne.layers.get_output(output_layer, deterministic=True)\n",
    "#We disable dropout for validation\n",
    "validation_loss = lasagne.objectives.categorical_crossentropy(validation_prediction, y)\n",
    "validation_loss = validation_loss.mean()\n",
    "    \n",
    "validation_accuracy = T.mean(T.eq(T.argmax(validation_prediction, axis=1), y), \n",
    "                      dtype=theano.config.floatX)\n",
    "\n",
    "train_mlp = theano.function([X, y], loss, updates=updates)\n",
    "validation_mlp = theano.function([X, y], [validation_loss, validation_accuracy])\n",
    "#No updates performed in validation_mlp"
   ]
  },
  {
   "cell_type": "code",
   "execution_count": null,
   "metadata": {
    "collapsed": true
   },
   "outputs": [],
   "source": []
  }
 ],
 "metadata": {
  "anaconda-cloud": {},
  "kernelspec": {
   "display_name": "Python [conda root]",
   "language": "python",
   "name": "conda-root-py"
  },
  "language_info": {
   "codemirror_mode": {
    "name": "ipython",
    "version": 3
   },
   "file_extension": ".py",
   "mimetype": "text/x-python",
   "name": "python",
   "nbconvert_exporter": "python",
   "pygments_lexer": "ipython3",
   "version": "3.5.2"
  }
 },
 "nbformat": 4,
 "nbformat_minor": 1
}
