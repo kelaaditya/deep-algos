{
 "cells": [
  {
   "cell_type": "code",
   "execution_count": 3,
   "metadata": {
    "collapsed": false
   },
   "outputs": [],
   "source": [
    "import theano\n",
    "import theano.tensor as T\n",
    "import lasagne\n",
    "import numpy as np"
   ]
  },
  {
   "cell_type": "code",
   "execution_count": null,
   "metadata": {
    "collapsed": true
   },
   "outputs": [],
   "source": [
    "def batchify(X):\n",
    "    TODO"
   ]
  },
  {
   "cell_type": "code",
   "execution_count": 9,
   "metadata": {
    "collapsed": false
   },
   "outputs": [],
   "source": [
    "def mlp_sdg(X=None):\n",
    "    input_layer = lasagne.layers.InputLayer(shape=(None, 1, 28, 28), input_var=X),\n",
    "    #channel = 1 as images are black-white\n",
    "    input_layer_drop = lasagne.layers.DropoutLayer(input_layer, p=0.2)\n",
    "    \n",
    "    hidden_layer_1 = lasagne.layers.DenseLayer(input_layer_drop, \n",
    "                                       num_units=800, \n",
    "                                       nonlinearity=lasagne.nonlinearities.rectify, \n",
    "                                       W=lasagne.init.GlorotUniform()\n",
    "                                      )\n",
    "    hidden_layer_1_drop = lasagne.layers.DropoutLayer(hidden_layer_1, p=0.5)\n",
    "    \n",
    "    hidden_layer_2 = lasagne.layers.DenseLayer(hidden_layer_1_drop, \n",
    "                                       num_units=800, \n",
    "                                       nonlinearity=lasagne.nonlinearities.rectify, \n",
    "                                       W=lasagne.init.GlorotUniform()\n",
    "                                      )\n",
    "    hidden_layer_2_drop = lasagne.layers.DropoutLayer(hidden_layer_2, p=0.5)\n",
    "    \n",
    "    output_layer = lasagne.layers.DenseLayer(hidden_layer_2_drop, \n",
    "                                             num_units=10, \n",
    "                                             nonlinearity=lasagne.nonlinearities.softmax\n",
    "                                            )\n",
    "    return(output_layer)"
   ]
  },
  {
   "cell_type": "code",
   "execution_count": null,
   "metadata": {
    "collapsed": true
   },
   "outputs": [],
   "source": []
  }
 ],
 "metadata": {
  "anaconda-cloud": {},
  "kernelspec": {
   "display_name": "Python [conda root]",
   "language": "python",
   "name": "conda-root-py"
  },
  "language_info": {
   "codemirror_mode": {
    "name": "ipython",
    "version": 3
   },
   "file_extension": ".py",
   "mimetype": "text/x-python",
   "name": "python",
   "nbconvert_exporter": "python",
   "pygments_lexer": "ipython3",
   "version": "3.5.2"
  }
 },
 "nbformat": 4,
 "nbformat_minor": 1
}
