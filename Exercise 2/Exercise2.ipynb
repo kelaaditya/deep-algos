{
 "cells": [
  {
   "cell_type": "code",
   "execution_count": 3,
   "metadata": {
    "collapsed": false
   },
   "outputs": [],
   "source": [
    "import theano\n",
    "import theano.tensor as T\n",
    "import lasagne\n",
    "import numpy as np"
   ]
  },
  {
   "cell_type": "code",
   "execution_count": null,
   "metadata": {
    "collapsed": true
   },
   "outputs": [],
   "source": [
    "def batchify(X):\n",
    "    "
   ]
  },
  {
   "cell_type": "code",
   "execution_count": 9,
   "metadata": {
    "collapsed": false
   },
   "outputs": [],
   "source": [
    "def mlp_sgd(X=None, y):\n",
    "    input_layer = lasagne.layers.InputLayer(shape=(None, 1, 28, 28), input_var=X),\n",
    "    #channel = 1 as images are black-white\n",
    "    input_layer_drop = lasagne.layers.DropoutLayer(input_layer, p=0.2)\n",
    "    \n",
    "    hidden_layer_1 = lasagne.layers.DenseLayer(input_layer_drop, \n",
    "                                       num_units=800, \n",
    "                                       nonlinearity=lasagne.nonlinearities.rectify, \n",
    "                                       W=lasagne.init.GlorotUniform()\n",
    "                                      )\n",
    "    hidden_layer_1_drop = lasagne.layers.DropoutLayer(hidden_layer_1, p=0.5)\n",
    "    \n",
    "    hidden_layer_2 = lasagne.layers.DenseLayer(hidden_layer_1_drop, \n",
    "                                       num_units=800, \n",
    "                                       nonlinearity=lasagne.nonlinearities.rectify, \n",
    "                                       W=lasagne.init.GlorotUniform()\n",
    "                                      )\n",
    "    hidden_layer_2_drop = lasagne.layers.DropoutLayer(hidden_layer_2, p=0.5)\n",
    "    \n",
    "    output_layer = lasagne.layers.DenseLayer(hidden_layer_2_drop, \n",
    "                                             num_units=10, \n",
    "                                             nonlinearity=lasagne.nonlinearities.softmax\n",
    "                                            )\n",
    "    \n",
    "    prediction = lasagne.layers.get_output(output_layer)\n",
    "    loss = lasagne.objectives.categorical_crossentropy(prediction, y)\n",
    "    loss = loss.mean()\n",
    "    params = lasagne.layers.get_all_params(output_layer, trainable=True)\n",
    "    updates = lasagne.updates.sgd(loss, params, learning_rate=0.01)\n",
    "    #Used Stochastic Gradient Descent here without momentum\n",
    "    \n",
    "    validation_prediction = lasagne.layers.get_output(output_layer, deterministic=True)\n",
    "    #We disable dropout for validation\n",
    "    validation_loss = lasagne.objectives.categorical_crossentropy(validation_prediction, y)\n",
    "    validation_loss = validation_loss.mean()\n",
    "    \n",
    "    test_acc = T.mean(T.eq(T.argmax(validation_prediction, axis=1), y), \n",
    "                      dtype=theano.config.floatX)\n",
    "    \n",
    "    return(validation_loss)\n",
    "    "
   ]
  },
  {
   "cell_type": "code",
   "execution_count": 10,
   "metadata": {
    "collapsed": true
   },
   "outputs": [],
   "source": [
    "lasagne.updates.sgd?"
   ]
  },
  {
   "cell_type": "code",
   "execution_count": null,
   "metadata": {
    "collapsed": true
   },
   "outputs": [],
   "source": []
  }
 ],
 "metadata": {
  "anaconda-cloud": {},
  "kernelspec": {
   "display_name": "Python [conda root]",
   "language": "python",
   "name": "conda-root-py"
  },
  "language_info": {
   "codemirror_mode": {
    "name": "ipython",
    "version": 3
   },
   "file_extension": ".py",
   "mimetype": "text/x-python",
   "name": "python",
   "nbconvert_exporter": "python",
   "pygments_lexer": "ipython3",
   "version": "3.5.2"
  }
 },
 "nbformat": 4,
 "nbformat_minor": 1
}
