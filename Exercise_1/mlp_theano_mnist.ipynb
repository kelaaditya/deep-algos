{
 "cells": [
  {
   "cell_type": "code",
   "execution_count": 2,
   "metadata": {
    "collapsed": false
   },
   "outputs": [],
   "source": [
    "import theano\n",
    "import theano.tensor as T"
   ]
  },
  {
   "cell_type": "code",
   "execution_count": 3,
   "metadata": {
    "collapsed": true
   },
   "outputs": [],
   "source": [
    "class layer:\n",
    "    def __init__(self, W_init, b_init, activation_func):\n",
    "        '''\n",
    "        output = activation(Wx+b)\n",
    "        x is the input one dimensional vector\n",
    "        W takes 'n_in' inputs from the previous layer (the number of previous layers nodes)\n",
    "        and has 'n_out' outputs (the number of the next layers nodes)\n",
    "        \n",
    "        parameters:\n",
    "        1. W_init: initial weight values\n",
    "            np.ndarray\n",
    "        2. b_init: initial bias value\n",
    "            np.ndarray\n",
    "        3. activation_func: activation function for output of layer\n",
    "            theano.tensor.elemwise.Elemwise\n",
    "        '''\n",
    "        n_out, n_in = W_init.shape\n",
    "        assert b_init.shape == (n_out,)\n",
    "        self.W = theano.shared(W_init.astype(theano.config.floatX), shared=True)\n",
    "        #shared=True as we allow Theano to use memory for this object (make faster)\n",
    "        self.b = theano.shared(b_init.astype(theano.config.floatX), shared=True)\n",
    "        self.activation_func = self.activation_func\n",
    "        self.params = [self.W, self.b]"
   ]
  },
  {
   "cell_type": "code",
   "execution_count": null,
   "metadata": {
    "collapsed": true
   },
   "outputs": [],
   "source": []
  }
 ],
 "metadata": {
  "anaconda-cloud": {},
  "kernelspec": {
   "display_name": "Python [default]",
   "language": "python",
   "name": "python3"
  },
  "language_info": {
   "codemirror_mode": {
    "name": "ipython",
    "version": 3
   },
   "file_extension": ".py",
   "mimetype": "text/x-python",
   "name": "python",
   "nbconvert_exporter": "python",
   "pygments_lexer": "ipython3",
   "version": "3.5.2"
  }
 },
 "nbformat": 4,
 "nbformat_minor": 1
}
