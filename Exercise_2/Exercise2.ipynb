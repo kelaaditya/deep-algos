{
 "cells": [
  {
   "cell_type": "code",
   "execution_count": 1,
   "metadata": {
    "collapsed": false
   },
   "outputs": [
    {
     "name": "stderr",
     "output_type": "stream",
     "text": [
      "/home/aditya/anaconda3/lib/python3.5/site-packages/theano/tensor/signal/downsample.py:6: UserWarning: downsample module has been moved to the theano.tensor.signal.pool module.\n",
      "  \"downsample module has been moved to the theano.tensor.signal.pool module.\")\n"
     ]
    }
   ],
   "source": [
    "import theano\n",
    "import theano.tensor as T\n",
    "import lasagne\n",
    "import numpy as np\n",
    "\n",
    "from load_mnist import *\n",
    "from batchify import *\n",
    "\n",
    "import matplotlib.pyplot as plt"
   ]
  },
  {
   "cell_type": "code",
   "execution_count": 2,
   "metadata": {
    "collapsed": false
   },
   "outputs": [],
   "source": [
    "X_train, y_train, X_test, y_test = load_data()"
   ]
  },
  {
   "cell_type": "code",
   "execution_count": 3,
   "metadata": {
    "collapsed": true
   },
   "outputs": [],
   "source": [
    "X = T.tensor4('X')\n",
    "y = T.ivector('y')"
   ]
  },
  {
   "cell_type": "code",
   "execution_count": 4,
   "metadata": {
    "collapsed": false
   },
   "outputs": [],
   "source": [
    "input_layer = lasagne.layers.InputLayer(shape=(None, 1, 28, 28), input_var=X)\n",
    "#channel = 1 as images are black-white\n",
    "input_layer_drop = lasagne.layers.DropoutLayer(input_layer, p=0.2)\n",
    "    \n",
    "hidden_layer_1 = lasagne.layers.DenseLayer(input_layer_drop, \n",
    "                                           num_units=800, \n",
    "                                           nonlinearity=lasagne.nonlinearities.rectify, \n",
    "                                           W=lasagne.init.GlorotUniform()\n",
    "                                          )\n",
    "hidden_layer_1_drop = lasagne.layers.DropoutLayer(hidden_layer_1, p=0.5)\n",
    "    \n",
    "hidden_layer_2 = lasagne.layers.DenseLayer(hidden_layer_1_drop, \n",
    "                                           num_units=800, \n",
    "                                           nonlinearity=lasagne.nonlinearities.rectify, \n",
    "                                           W=lasagne.init.GlorotUniform()\n",
    "                                          )\n",
    "hidden_layer_2_drop = lasagne.layers.DropoutLayer(hidden_layer_2, p=0.5)\n",
    "    \n",
    "output_layer = lasagne.layers.DenseLayer(hidden_layer_2_drop, \n",
    "                                         num_units=10, \n",
    "                                         nonlinearity=lasagne.nonlinearities.softmax\n",
    "                                        )\n",
    "    \n",
    "prediction = lasagne.layers.get_output(output_layer)\n",
    "loss = lasagne.objectives.categorical_crossentropy(prediction, y)\n",
    "l1_regularization = lasagne.regularization.regularize_layer_params_weighted(output_layer, l1)*1e-4\n",
    "loss = loss + l1_penalty\n",
    "loss = loss.mean()\n",
    "\n",
    "\n",
    "params = lasagne.layers.get_all_params(output_layer, trainable=True)\n",
    "updates = lasagne.updates.nesterov_momentum(loss, params, learning_rate=0.01, momentum=0.9)\n",
    "#Used Stochastic Gradient Descent here without momentum\n",
    "    \n",
    "validation_prediction = lasagne.layers.get_output(output_layer, deterministic=True)\n",
    "#We disable dropout for validation\n",
    "validation_loss = lasagne.objectives.categorical_crossentropy(validation_prediction, y)\n",
    "validation_loss = validation_loss.mean()\n",
    "    \n",
    "validation_accuracy = T.mean(T.eq(T.argmax(validation_prediction, axis=1), y), \n",
    "                      dtype=theano.config.floatX)\n",
    "\n",
    "train_mlp = theano.function([X, y], loss, updates=updates)\n",
    "validation_mlp = theano.function([X, y], [validation_loss, validation_accuracy])\n",
    "#No updates performed in validation_mlp"
   ]
  },
  {
   "cell_type": "code",
   "execution_count": 10,
   "metadata": {
    "collapsed": false
   },
   "outputs": [],
   "source": [
    "epochs = 1\n",
    "batch_size = 500\n",
    "\n",
    "training_loss_list = []\n",
    "test_accuracy_list = []\n",
    "\n",
    "for i in range(epochs):\n",
    "    for batch in batchify(X_train, y_train, batch_size):\n",
    "        X_batch, y_batch = batch\n",
    "        training_loss_list.append(train_mlp(X_batch, y_batch))\n",
    "    \n",
    "    test_accuracy_list = []\n",
    "    for batch in batchify(X_test, y_test, batch_size):\n",
    "        X_batch, y_batch = batch\n",
    "        _, test_accuracy = validation_mlp(X_batch, y_batch)\n",
    "        test_accuracy_list.append(test_accuracy*100)"
   ]
  }
 ],
 "metadata": {
  "anaconda-cloud": {},
  "kernelspec": {
   "display_name": "Python [conda root]",
   "language": "python",
   "name": "conda-root-py"
  },
  "language_info": {
   "codemirror_mode": {
    "name": "ipython",
    "version": 3
   },
   "file_extension": ".py",
   "mimetype": "text/x-python",
   "name": "python",
   "nbconvert_exporter": "python",
   "pygments_lexer": "ipython3",
   "version": "3.5.2"
  }
 },
 "nbformat": 4,
 "nbformat_minor": 1
}
