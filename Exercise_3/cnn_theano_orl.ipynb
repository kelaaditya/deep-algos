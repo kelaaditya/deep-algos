{
 "cells": [
  {
   "cell_type": "code",
   "execution_count": 1,
   "metadata": {
    "collapsed": true
   },
   "outputs": [],
   "source": [
    "import theano\n",
    "import theano.tensor as T\n",
    "from theano.tensor.signal import pool\n",
    "\n",
    "import numpy as np\n",
    "import matplotlib.pyplot as plt"
   ]
  },
  {
   "cell_type": "code",
   "execution_count": 2,
   "metadata": {
    "collapsed": false
   },
   "outputs": [],
   "source": [
    "class cnn_layer():\n",
    "    def __init__(self, output_activation_func=T.nnet.relu, K_init, b_init, pool_size=(2,2)):\n",
    "        '''\n",
    "        K_init: Initial values for the kernel for this layer\n",
    "        b_init: Initial values for the bias for this layer\n",
    "        activation: RelU\n",
    "        pool_size: size over which max_pool is applied\n",
    "        '''\n",
    "        \n",
    "        self.K = theano.shared(value=K_init.astype(theano.config.floatX),\n",
    "                               borrow=True\n",
    "                              )\n",
    "        self.b = theano.shared(value=b_init.astype(theano.config.floatX),\n",
    "                               borrow=True\n",
    "                              )\n",
    "        \n",
    "        \n",
    "        self.params = [self.K, self.b]\n",
    "    \n",
    "    def output(self, I):\n",
    "        assert I.shape[1] == K_init.shape[1]\n",
    "        self.I = I\n",
    "        \n",
    "        conv_out = T.nnet.conv2d(I, self.K)\n",
    "        pool_out = pool.pool_2d(conv_out, pool_size, ignore_border=True)\n",
    "        \n",
    "        #dimshuffle shuffles and makes slice broadcastable wherever 'x' is\n",
    "        return(output_activation_func(pool_out + self.b.dimshuffle('x', 0, 'x', 'x')))"
   ]
  },
  {
   "cell_type": "code",
   "execution_count": null,
   "metadata": {
    "collapsed": true
   },
   "outputs": [],
   "source": [
    "class layer:\n",
    "    def __init__(self, activation_func=T.nnet.relu, W_init, b_init):\n",
    "        '''\n",
    "        output = activation(WX+b)\n",
    "        X is the data matrix (each column is one example)\n",
    "        W takes 'n_in' inputs from the previous layer (the number of previous layers nodes)\n",
    "        and has 'n_out' outputs (the number of the next layers nodes)\n",
    "        '''\n",
    "        n_out, n_in = W_init.shape\n",
    "        self.W = theano.shared(value=W_init.astype(theano.config.floatX), borrow=True)\n",
    "        #borrow=True as we allow Theano to use memory for this object (make faster)\n",
    "        self.b = theano.shared(value=b_init.reshape(n_out, 1).astype(theano.config.floatX), \n",
    "                               borrow=True, \n",
    "                               broadcastable=(False, True))\n",
    "        self.activation_func = activation_func\n",
    "        self.params = [self.W, self.b]\n",
    "        \n",
    "    def output(self, X):\n",
    "        '''\n",
    "        Gives the output: activation(WX+b)\n",
    "        '''\n",
    "        pre_activation = T.dot(self.W, X) + self.b\n",
    "        return(self.activation_func(pre_activation))"
   ]
  },
  {
   "cell_type": "code",
   "execution_count": 3,
   "metadata": {
    "collapsed": true
   },
   "outputs": [],
   "source": [
    "#Running CNN over MNIST\n",
    "\n",
    "I = T.tensor4('I')\n",
    "#I.shape = (batch_size, 1, 28, 28)\n",
    "y = T.ivector('y')\n",
    "\n",
    "#50 feature maps\n",
    "cnn_layer_1 = cnn_layer(K_init=np.random.rand(50, 1, 5, 5),\n",
    "                        b_init=np.zeros((50,), dtype=theano.config.floatX)\n",
    "                       )\n",
    "\n",
    "cnn_layer_2 = cnn_layer(K_init=np.random.rand(50, 50, 5, 5),\n",
    "                        b_init=np.zeros((50,), dtype=theano.config.floatX)\n",
    "                       )\n",
    "\n",
    "#Hidden layer shape: n_out=500, n_in=number of kernel\n",
    "hidden_layer_1 = layer(W_init=np.random.rand(500, 50),\n",
    "                       b_init=np.zeros(500)\n",
    "                      )\n",
    "\n",
    "output_layer = layer(T.nnet.softmax, \n",
    "                     W_init=np.random.rand(10, 50), \n",
    "                     b_init=np.zeros(10)\n",
    "                    )\n",
    "\n",
    "I = cnn_layer_1.output(I)\n",
    "I = cnn_layer_2.output(I).flatten(2)\n",
    "I = hidden_layer_1.output(I)\n",
    "I = output_layer.output(I)\n",
    "\n"
   ]
  },
  {
   "cell_type": "code",
   "execution_count": null,
   "metadata": {
    "collapsed": true
   },
   "outputs": [],
   "source": []
  }
 ],
 "metadata": {
  "anaconda-cloud": {},
  "kernelspec": {
   "display_name": "Python [conda root]",
   "language": "python",
   "name": "conda-root-py"
  },
  "language_info": {
   "codemirror_mode": {
    "name": "ipython",
    "version": 3
   },
   "file_extension": ".py",
   "mimetype": "text/x-python",
   "name": "python",
   "nbconvert_exporter": "python",
   "pygments_lexer": "ipython3",
   "version": "3.5.2"
  }
 },
 "nbformat": 4,
 "nbformat_minor": 1
}
