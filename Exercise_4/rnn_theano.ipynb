{
 "cells": [
  {
   "cell_type": "code",
   "execution_count": 1,
   "metadata": {
    "collapsed": true
   },
   "outputs": [],
   "source": [
    "import theano\n",
    "import theano.tensor as T\n",
    "\n",
    "import numpy as np\n",
    "import matplotlib.pyplot as plt"
   ]
  },
  {
   "cell_type": "code",
   "execution_count": 2,
   "metadata": {
    "collapsed": true
   },
   "outputs": [],
   "source": [
    "class RNN():\n",
    "    def __init__(self, n_in, n_hidden, output_activation_func=T.nnet.softmax):\n",
    "        self.U = theano.shared(value=np.random.normal(loc=0.0, \n",
    "                                                      scale=0.01, \n",
    "                                                      size=(n_hidden, n_in)).astype(theano.config.floatX))\n",
    "        self.V = theano.shared(value=np.random.normal(loc=0.0, \n",
    "                                                      scale=0.01, \n",
    "                                                      size=(n_in, n_hidden)).astype(theano.config.floatX))\n",
    "        self.W = theano.shared(value=np.random.normal(loc=0.0, \n",
    "                                                      scale=0.01, \n",
    "                                                      size=(n_hidden, n_hidden)).astype(theano.config.floatX))\n",
    "        \n",
    "        self.b = theano.shared(value=np.zeros((n_hidden, )).astype(theano.config.floatX))\n",
    "        self.c = theano.shared(value=np.zeros((n_in, )).astype(theano.config.floatX))\n",
    "        \n",
    "        self.activation_func = output_activation_func\n",
    "        self.params = [self.U, self.V, self.W, self.b, self.c]\n",
    "        \n",
    "        x = T.matrix('x')\n",
    "        y = T.scalar('y')\n",
    "        eta = 0.01\n",
    "        \n",
    "        h, _ = theano.scan(self.step_forward, \n",
    "                           sequences = x,\n",
    "                           outputs_info = [np.zeros(n_hidden).astype(theano.config.floatX)],\n",
    "                           non_sequences = [self.U, self.W, self.b])\n",
    "        \n",
    "        o = self.c + T.dot(self.V, h[-1])\n",
    "        cost = ((o - y)**2).mean(axis=0).sum()\n",
    "        \n",
    "        self.training_step = theano.function([x, y], \n",
    "                                            cost,\n",
    "                                            updates=self.gradient_update(cost, self.params, eta))\n",
    "        \n",
    "        \n",
    "    def step_forward(self, x_t, h_t_prev, U, W, b):\n",
    "        h_t = T.tanh(b + T.dot(W, h_t_prev) + T.dot(U, x_t))\n",
    "        return(h_t)\n",
    "    \n",
    "    \n",
    "    def gradient_update(self, loss, params, eta):\n",
    "        updated_param = []\n",
    "        for param in params:\n",
    "            step = -eta*T.grad(loss, param)\n",
    "            updated_param.append((param, param + step))\n",
    "        return(updated_param)"
   ]
  },
  {
   "cell_type": "code",
   "execution_count": 4,
   "metadata": {
    "collapsed": false
   },
   "outputs": [
    {
     "data": {
      "image/png": "[encoded data removed]",
      "text/plain": [
       "<matplotlib.figure.Figure at 0x7f91bb1fd748>"
      ]
     },
     "metadata": {},
     "output_type": "display_data"
    }
   ],
   "source": [
    "recursive_net = RNN(2, 20)\n",
    "cost_list = []\n",
    "for i in range(10000):\n",
    "    x = np.random.rand(10,2)\n",
    "    y = np.dot(x[:,0], x[:,1])\n",
    "    cost = recursive_net.training_step(x, y)\n",
    "    cost_list.append(cost)\n",
    "plt.plot(cost_list)\n",
    "plt.show()"
   ]
  },
  {
   "cell_type": "code",
   "execution_count": null,
   "metadata": {
    "collapsed": true
   },
   "outputs": [],
   "source": []
  }
 ],
 "metadata": {
  "anaconda-cloud": {},
  "kernelspec": {
   "display_name": "Python [conda root]",
   "language": "python",
   "name": "conda-root-py"
  },
  "language_info": {
   "codemirror_mode": {
    "name": "ipython",
    "version": 3
   },
   "file_extension": ".py",
   "mimetype": "text/x-python",
   "name": "python",
   "nbconvert_exporter": "python",
   "pygments_lexer": "ipython3",
   "version": "3.5.2"
  }
 },
 "nbformat": 4,
 "nbformat_minor": 1
}
