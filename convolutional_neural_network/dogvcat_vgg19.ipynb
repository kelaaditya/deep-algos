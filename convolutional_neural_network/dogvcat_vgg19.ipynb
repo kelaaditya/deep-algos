{
 "cells": [
  {
   "cell_type": "markdown",
   "metadata": {},
   "source": [
    "## The Dog v Cat Problem using VGG19\n",
    "The pretrained VGG19 was loaded and connected with a trainable finaly fully connected layer\n",
    "\n",
    "The script vgg19.py contains the VGG19 class and the loader function.  \n",
    "Running\n",
    "```python\n",
    "vggnet = VGG19(VGG_LINK, VGG_FILE)\n",
    "```\n",
    "downloads the VGG19 parameters if not already present in the working directory.  \n",
    "The \n",
    "```python\n",
    "vggnet.build()\n",
    "```\n",
    "function builds the VGG19 graph with the downloaded parameters"
   ]
  },
  {
   "cell_type": "code",
   "execution_count": 18,
   "metadata": {
    "collapsed": true
   },
   "outputs": [],
   "source": [
    "import matplotlib.pyplot as plt\n",
    "import numpy as np\n",
    "import scipy.misc\n",
    "import tensorflow as tf\n",
    "\n",
    "from tflearn.data_utils import to_categorical\n",
    "from utils import load_data\n",
    "from utils import vgg19\n",
    "from utils import batchify"
   ]
  },
  {
   "cell_type": "code",
   "execution_count": 2,
   "metadata": {
    "collapsed": true
   },
   "outputs": [],
   "source": [
    "VGG_LINK = 'http://www.vlfeat.org/matconvnet/models/imagenet-vgg-verydeep-19.mat'\n",
    "VGG_FILE = 'imagenet-vgg-verydeep-19.mat'\n",
    "VGG_MEAN = [103.939, 116.779, 123.68]\n",
    "BATCH_SIZE = 10\n",
    "IMAGE_SIZE = (224, 224)"
   ]
  },
  {
   "cell_type": "code",
   "execution_count": 3,
   "metadata": {
    "collapsed": true
   },
   "outputs": [],
   "source": [
    "X_train, Y_train, X_test = load_data('G:/Python/', IMAGE_SIZE)"
   ]
  },
  {
   "cell_type": "code",
   "execution_count": 4,
   "metadata": {},
   "outputs": [
    {
     "name": "stdout",
     "output_type": "stream",
     "text": [
      "VGGNet raw_file present\n"
     ]
    }
   ],
   "source": [
    "vggnet = VGG19(VGG_LINK, VGG_FILE)"
   ]
  },
  {
   "cell_type": "code",
   "execution_count": 5,
   "metadata": {
    "collapsed": true
   },
   "outputs": [],
   "source": [
    "X = tf.placeholder(tf.float32, shape=(BATCH_SIZE, *IMAGE_SIZE, 3), name='X')\n",
    "Y = tf.placeholder(tf.float32, shape=(None, 2), name='Y')"
   ]
  },
  {
   "cell_type": "code",
   "execution_count": 6,
   "metadata": {
    "collapsed": true
   },
   "outputs": [],
   "source": [
    "vgg_graph = vggnet.build(X)"
   ]
  },
  {
   "cell_type": "code",
   "execution_count": 7,
   "metadata": {
    "collapsed": true
   },
   "outputs": [],
   "source": [
    "def two_label_layer(input_layer):\n",
    "    shape = input_layer.get_shape().as_list()\n",
    "    dim = 1\n",
    "    for d in shape[1:]:\n",
    "        dim *= d\n",
    "    x = tf.reshape(input_layer, [-1, dim])\n",
    "\n",
    "    # the '1' is the number of labels in the dog-cat problem\n",
    "    weights = tf.Variable(tf.random_normal([dim, 2]))\n",
    "    biases = tf.Variable(tf.random_normal([2]))\n",
    "\n",
    "    output_layer = tf.nn.bias_add(tf.matmul(x, weights), biases)\n",
    "    return(output_layer)"
   ]
  },
  {
   "cell_type": "code",
   "execution_count": 8,
   "metadata": {
    "collapsed": true
   },
   "outputs": [],
   "source": [
    "output_layer = two_label_layer(vgg_graph['full8_1'])"
   ]
  },
  {
   "cell_type": "code",
   "execution_count": 10,
   "metadata": {
    "collapsed": true
   },
   "outputs": [],
   "source": [
    "loss = tf.reduce_mean(tf.nn.softmax_cross_entropy_with_logits(logits=output_layer, labels=Y))"
   ]
  },
  {
   "cell_type": "code",
   "execution_count": 11,
   "metadata": {
    "collapsed": true
   },
   "outputs": [],
   "source": [
    "optimizer = tf.train.AdamOptimizer(1.0).minimize(loss)"
   ]
  },
  {
   "cell_type": "code",
   "execution_count": 12,
   "metadata": {
    "collapsed": true
   },
   "outputs": [],
   "source": [
    "init = tf.global_variables_initializer()"
   ]
  },
  {
   "cell_type": "code",
   "execution_count": 13,
   "metadata": {
    "collapsed": true
   },
   "outputs": [],
   "source": [
    "with tf.Session() as sess:\n",
    "    sess.run(init)\n",
    "    number_batches = int(len(X_train)/BATCH_SIZE)\n",
    "    training_loss_list = []\n",
    "    for epoch in range(1):\n",
    "        for batch in batchify(X_train, Y_train, BATCH_SIZE):\n",
    "            X_batch, Y_batch = batch\n",
    "            _, training_loss_value = sess.run([optimizer, loss], feed_dict={X: X_batch, Y: Y_batch})\n",
    "            training_loss_list.append(training_loss_value)"
   ]
  },
  {
   "cell_type": "code",
   "execution_count": 14,
   "metadata": {},
   "outputs": [
    {
     "data": {
      "text/plain": [
       "[135.36212, 0.0, 0.0, 0.0, 0.0, 0.0, 0.0, 0.0, 0.0, 0.0]"
      ]
     },
     "execution_count": 14,
     "metadata": {},
     "output_type": "execute_result"
    }
   ],
   "source": [
    "training_loss_list"
   ]
  }
 ],
 "metadata": {
  "kernelspec": {
   "display_name": "Python 3",
   "language": "python",
   "name": "python3"
  },
  "language_info": {
   "codemirror_mode": {
    "name": "ipython",
    "version": 3
   },
   "file_extension": ".py",
   "mimetype": "text/x-python",
   "name": "python",
   "nbconvert_exporter": "python",
   "pygments_lexer": "ipython3",
   "version": "3.5.3"
  }
 },
 "nbformat": 4,
 "nbformat_minor": 2
}
