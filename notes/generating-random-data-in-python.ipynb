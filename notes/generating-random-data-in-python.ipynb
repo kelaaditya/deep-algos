{
 "cells": [
  {
   "cell_type": "markdown",
   "metadata": {},
   "source": [
    "### These notes are based on the \"Generating Random Data in Python (Guide)\" available at: https://realpython.com/python-random/"
   ]
  },
  {
   "cell_type": "markdown",
   "metadata": {},
   "source": [
    "## Not-So-Random PRNG"
   ]
  },
  {
   "cell_type": "code",
   "execution_count": 10,
   "metadata": {},
   "outputs": [],
   "source": [
    "class NotSoRandom(object):\n",
    "    def __init__(self, seed_val=1234):\n",
    "        self.seed_val = seed_val\n",
    "    def random(self):\n",
    "        random_number = (self.seed_val * 18) % 221\n",
    "        return(random_number)"
   ]
  },
  {
   "cell_type": "code",
   "execution_count": 12,
   "metadata": {},
   "outputs": [
    {
     "data": {
      "text/plain": [
       "112"
      ]
     },
     "execution_count": 12,
     "metadata": {},
     "output_type": "execute_result"
    }
   ],
   "source": [
    "rand_inst = NotSoRandom()\n",
    "random_number = rand_inst.random()\n",
    "random_number"
   ]
  },
  {
   "cell_type": "code",
   "execution_count": null,
   "metadata": {},
   "outputs": [],
   "source": []
  }
 ],
 "metadata": {
  "kernelspec": {
   "display_name": "Python 3",
   "language": "python",
   "name": "python3"
  },
  "language_info": {
   "codemirror_mode": {
    "name": "ipython",
    "version": 3
   },
   "file_extension": ".py",
   "mimetype": "text/x-python",
   "name": "python",
   "nbconvert_exporter": "python",
   "pygments_lexer": "ipython3",
   "version": "3.6.6"
  }
 },
 "nbformat": 4,
 "nbformat_minor": 2
}
